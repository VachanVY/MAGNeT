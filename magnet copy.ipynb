{
 "cells": [
  {
   "cell_type": "markdown",
   "metadata": {},
   "source": [
    "# Import Modules"
   ]
  },
  {
   "cell_type": "code",
   "execution_count": 1,
   "metadata": {},
   "outputs": [
    {
     "name": "stdout",
     "output_type": "stream",
     "text": [
      "Torch Version: 2.2.1+cu121\n",
      "TorchAudio Version: 2.2.1+cu121\n"
     ]
    }
   ],
   "source": [
    "import requests\n",
    "from tqdm import tqdm\n",
    "import os; import glob; import shutil\n",
    "import random as r\n",
    "import json\n",
    "import pickle\n",
    "from itertools import islice\n",
    "import matplotlib.pyplot as plt\n",
    "import tempfile\n",
    "from concurrent.futures import ProcessPoolExecutor\n",
    "from dataclasses import dataclass\n",
    "import sys\n",
    "import math\n",
    "import bisect\n",
    "\n",
    "import torch\n",
    "from torch import (\n",
    "    nn,\n",
    "    Tensor\n",
    ")\n",
    "import torch.nn.functional as F\n",
    "import torchaudio\n",
    "\n",
    "print(\"Torch Version:\", torch.__version__)\n",
    "print(\"TorchAudio Version:\", torchaudio.__version__)"
   ]
  },
  {
   "cell_type": "markdown",
   "metadata": {},
   "source": [
    "# Pretrained Models: Encodec and T5 Model"
   ]
  },
  {
   "cell_type": "code",
   "execution_count": 2,
   "metadata": {},
   "outputs": [
    {
     "name": "stderr",
     "output_type": "stream",
     "text": [
      "/home/vvy/Desktop/repos/MAGNeT/.venv/lib/python3.11/site-packages/torch/nn/utils/weight_norm.py:28: UserWarning: torch.nn.utils.weight_norm is deprecated in favor of torch.nn.utils.parametrizations.weight_norm.\n",
      "  warnings.warn(\"torch.nn.utils.weight_norm is deprecated in favor of torch.nn.utils.parametrizations.weight_norm.\")\n"
     ]
    }
   ],
   "source": [
    "from encodec import (\n",
    "    EncodecModel,\n",
    "    utils as enc_utils\n",
    ")\n",
    "from transformers import AutoTokenizer, T5EncoderModel\n",
    "\n",
    "encodec_model = EncodecModel.encodec_model_24khz()\n",
    "encodec_model.set_target_bandwidth(3.0) # 3 kbps (n_q = 4)\n",
    "SRATE = encodec_model.sample_rate\n",
    "MAX_SEC = 10\n",
    "WAVLEN = SRATE*MAX_SEC\n",
    "\n",
    "## (google-t5/t5-small) (google-t5/t5-base) (google-t5/t5-large) (google-t5/t5-3b) (google-t5/t5-11b)\n",
    "T5_MODEL_PATH = \"google-t5/t5-small\"\n",
    "# t5_model = T5EncoderModel.from_pretrained(T5_MODEL_PATH)\n",
    "t5_tokenizer = AutoTokenizer.from_pretrained(T5_MODEL_PATH)"
   ]
  },
  {
   "cell_type": "code",
   "execution_count": 3,
   "metadata": {},
   "outputs": [],
   "source": [
    "def preprocess_wavpath(wavpath:str):    \n",
    "    wav, sr = torchaudio.load(wavpath)\n",
    "    wav = enc_utils.convert_audio(\n",
    "            wav, sr=sr, target_sr=SRATE,\n",
    "            target_channels=encodec_model.channels\n",
    "        )\n",
    "    \n",
    "    return wav"
   ]
  },
  {
   "cell_type": "markdown",
   "metadata": {},
   "source": [
    "# Dataset\n",
    "### Music Bench (Dataset details):\n",
    "* 52,768 training and 400 test samples\n",
    "* Including music features of chords, beats, tempo, and key that are extracted from the audio.\n",
    "* Describing these music features using text templates and thus enhancing the original text prompts.\n",
    "\n",
    "Each row of a .json file has:\n",
    "* `location` (of the files after decompressing the .tar.gz file)\n",
    "* `main_caption` – text prompts that are a result of augmentation (TestB contains control sentences, train set contains ChatGPT rephrased captions here)\n",
    "* `alt_caption` – in the case of TestB these are captions without any control sentences added.\n",
    "* `prompt_aug` – A control sentence related to volume change augmentation.\n",
    "* `prompt_ch` – A control sentence describing the chord sequence.\n",
    "* `prompt_bt` – A control sentence describing the beat count (meter)\n",
    "* `prompt_bpm` – A control sentence describing tempo, either in beats per minute (bpm), or in musical words, e.g., Adagio, Moderato, Presto.\n",
    "* `prompt_key` – A control sentence related to the extracted musical key.\n",
    "* `beats` – The beat and downbeat timestamps. This is used as an input for training Mustango.\n",
    "* `bpm` – The tempo feature saved as a number.\n",
    "* `chords` – The chord sequence contained in the track. This is used as an input for training Mustango.\n",
    "* `chords_time` – Timestamps of the detected chords. This is used as an input for training Mustango.\n",
    "* `key` – The root and the type of the detected key.\n",
    "* `keyprob` – The confidence score for this detected key provided by the detection algorithm."
   ]
  },
  {
   "cell_type": "code",
   "execution_count": 4,
   "metadata": {},
   "outputs": [],
   "source": [
    "def playAudio(\n",
    "        filepath:str=None,\n",
    "        tensor:Tensor=None,\n",
    "        text:str=None,\n",
    "        save:bool=False,\n",
    "        sample_rate:int=16_000,\n",
    "        show:bool=False\n",
    "    ):\n",
    "    assert any([filepath, tensor is not None]), \"provide either wav-path or a wav-tensor of shape 2\"\n",
    "    if text is not None:\n",
    "        print(\"Prompt:\", text, sep=\"\\n\")\n",
    "    if filepath:\n",
    "        assert filepath.endswith(\".wav\")\n",
    "        if show:\n",
    "            wav = torchaudio.load(filepath)[0][0]\n",
    "            plt.plot(wav.tolist()); plt.show()\n",
    "        os.system(f'aplay {filepath}')\n",
    "    elif tensor is not None:\n",
    "        if save:\n",
    "            assert filepath is not None, \"provide filepath if you want to save\"\n",
    "            torchaudio.save(filepath, src=tensor)\n",
    "            playAudio(filepath, tensor=None, show=show)\n",
    "        else:\n",
    "            with tempfile.NamedTemporaryFile(suffix=\".wav\") as tmp:\n",
    "                torchaudio.save(tmp.name, src=tensor.unsqueeze(0), sample_rate=sample_rate)\n",
    "                playAudio(tmp.name, tensor=None, show=show)"
   ]
  },
  {
   "cell_type": "code",
   "execution_count": 5,
   "metadata": {},
   "outputs": [],
   "source": [
    "DATA_DIR = \"data/MusicBench\"\n",
    "URLS = [\n",
    "    \"https://huggingface.co/datasets/amaai-lab/MusicBench/resolve/main/MusicBench_train.json\"\n",
    "    \"https://huggingface.co/datasets/amaai-lab/MusicBench/resolve/main/MusicBench_test_A.json\",\n",
    "    \"https://huggingface.co/datasets/amaai-lab/MusicBench/resolve/main/MusicBench_test_B.json\",\n",
    "    \"https://huggingface.co/datasets/amaai-lab/MusicBench/resolve/main/MusicBench.tar.gz\",\n",
    "]\n",
    "FILE_PATHS:list[str] = [os.path.join(DATA_DIR, url.split(\"/\")[-1]) for url in URLS]\n",
    "\n",
    "DATA_PATH = os.path.join(DATA_DIR, \"datashare/data_aug2\")\n",
    "AUDIO_TXT_PATH = os.path.join(DATA_DIR, \"audiopath_txt.pkl\")"
   ]
  },
  {
   "cell_type": "markdown",
   "metadata": {},
   "source": [
    "## File Utils"
   ]
  },
  {
   "cell_type": "code",
   "execution_count": 6,
   "metadata": {},
   "outputs": [],
   "source": [
    "def download_file(url:str, filename:str, chunk_size:int=1024):\n",
    "    \"\"\"Download a file from the given URL and save it with the specified filename\"\"\"\n",
    "    resp = requests.get(url, stream=True)\n",
    "    total = int(resp.headers.get(\"content-length\", 0))\n",
    "    with open(filename, \"wb\") as file, tqdm(\n",
    "        desc=filename,\n",
    "        total=total,\n",
    "        unit=\"iB\",\n",
    "        unit_scale=True,\n",
    "        unit_divisor=1024,\n",
    "    ) as bar:\n",
    "        for data in resp.iter_content(chunk_size=chunk_size):\n",
    "            size = file.write(data)\n",
    "            bar.update(size)\n",
    "\n",
    "    print(f\"{filename} downloaded successfully:\")"
   ]
  },
  {
   "cell_type": "markdown",
   "metadata": {},
   "source": [
    "## Download Dataset"
   ]
  },
  {
   "cell_type": "code",
   "execution_count": 7,
   "metadata": {},
   "outputs": [],
   "source": [
    "def download_dataset():\n",
    "    \"download if data dir is empty\"\n",
    "    os.makedirs(DATA_DIR, exist_ok=True)\n",
    "\n",
    "    # if files not present in DATA_DIR then start downloading\n",
    "    if not os.listdir(DATA_DIR):\n",
    "        # download files\n",
    "        for url, file_path in zip(URLS, FILE_PATHS):\n",
    "            # if that file doesn't exist then only downloading else skip downloading\n",
    "            if not os.path.exists(file_path):\n",
    "                try:\n",
    "                    # the tar file is very big so may freeze download in-between. \n",
    "                    download_file(url, file_path)\n",
    "                except: # KeyboardInterrupt download freezes\n",
    "                    print(f\"Couldn't download {file_path}. So deleting that file, try again. Maybe try manually downloading it\")\n",
    "                    os.remove(file_path)\n",
    "                # if file is a .tar.gz type unpack it\n",
    "                if file_path.endswith(\".tar.gz\"):\n",
    "                    print(f\"Unpacking {file_path}\")\n",
    "                    return_code = os.system(f\"tar -xzf {file_path} -C {DATA_DIR}\")\n",
    "                    print(\n",
    "                        \"Unpacking succesful,\" if return_code==0 else \n",
    "                        f\"Error code {return_code} when unpacking {file_path}\"\n",
    "                    )\n",
    "            else:\n",
    "                print(f\"{file_path} is present, skipping downloading it.\")\n",
    "        \n",
    "        # move unpacked files from diff folder to the one folder and delete src folder\n",
    "        src_dir = \"data/MusicBench/datashare/data\"\n",
    "        for fpath in os.listdir(src_dir):\n",
    "            fpath = os.path.join(src_dir, fpath)\n",
    "            shutil.move(src=fpath, dst=DATA_PATH)\n",
    "        print(f\"Moved files from {src_dir} to {DATA_PATH} so deleting {src_dir}\")\n",
    "        os.removedirs(src_dir)\n",
    "\n",
    "# download_dataset()"
   ]
  },
  {
   "cell_type": "markdown",
   "metadata": {},
   "source": [
    "## Save and load dataset"
   ]
  },
  {
   "cell_type": "code",
   "execution_count": 8,
   "metadata": {},
   "outputs": [],
   "source": [
    "def shuffle_preserve_order(a, b):\n",
    "    combined = list(zip(a, b))\n",
    "    r.shuffle(combined)\n",
    "\n",
    "    a, b = zip(*combined)\n",
    "    return a, b"
   ]
  },
  {
   "cell_type": "code",
   "execution_count": 9,
   "metadata": {},
   "outputs": [
    {
     "name": "stdout",
     "output_type": "stream",
     "text": [
      "Loaded dataset.\n"
     ]
    }
   ],
   "source": [
    "def ioPathTextDs(\n",
    "    save_path:str, \n",
    "    batch_size:int|None=None, \n",
    "    return_outputs:bool=True,\n",
    ") -> list[tuple[str, str]]|None:\n",
    "    if not os.path.exists(save_path):\n",
    "        print(\"Saving dataset...\")\n",
    "        assert batch_size is not None, \"provide batch_size when saving.\"\n",
    "        paths, texts = [], []\n",
    "        with open('data/MusicBench/MusicBench_train_modified.json') as json_data:\n",
    "            for line in json_data:\n",
    "                # convert \"string-dictionary\" to dictionary\n",
    "                data:dict[str, str] = json.loads(line.replace(\"'\", \"/\"))\n",
    "                # data dictionary with music file path and text caption for that music             \n",
    "                wavpath, text = (data[\"location\"], data[\"main_caption\"])\n",
    "                if not wavpath.split(\"/\")[0].endswith(\"_aug2\"):\n",
    "                    dirname, filename = wavpath.split(\"/\")\n",
    "                    wavpath = os.path.join(dirname + \"_aug2\", filename)\n",
    "                wavpath = os.path.join(DATA_DIR, \"datashare\", wavpath)\n",
    "                paths.append(wavpath); texts.append(text)\n",
    "        assert len(paths)==len(texts), \"Number of audio paths must be equal to number of captions\"\n",
    "        print(\"Loaded paths and prompts...\")\n",
    "        # shuffle dataset\n",
    "        paths, texts = shuffle_preserve_order(paths, texts)\n",
    "        paths = [list(islice(paths, i, i+batch_size)) for i in range(0, len(paths), batch_size)][:-1] # (len//batch_size, batch_size)\n",
    "        texts = [list(islice(texts, i, i+batch_size)) for i in range(0, len(texts), batch_size)][:-1] # (len//batch_size, batch_size)\n",
    "        # save dataset\n",
    "        with open(save_path, \"wb\") as file:\n",
    "            pickle.dump(\n",
    "                obj=[paths, texts], file=file,\n",
    "                protocol=pickle.HIGHEST_PROTOCOL\n",
    "            )\n",
    "    else:\n",
    "        # load dataset\n",
    "        print(\"Loaded dataset.\")\n",
    "        with open(save_path, \"rb\") as file:\n",
    "            paths, texts = pickle.load(file)\n",
    "    \n",
    "    if return_outputs:\n",
    "        return paths, texts\n",
    "    \n",
    "paths, texts = ioPathTextDs(save_path=AUDIO_TXT_PATH, batch_size=32, return_outputs=True) # ~?mins"
   ]
  },
  {
   "cell_type": "markdown",
   "metadata": {},
   "source": [
    "## Feel the dataset"
   ]
  },
  {
   "cell_type": "markdown",
   "metadata": {},
   "source": [
    "---\n",
    "```python\n",
    "for b_paths, b_texts in zip(paths[:2], texts[:2]):\n",
    "    for i in range(32):\n",
    "        playAudio(b_paths[i], text=b_texts[i], show=True)\n",
    "```\n",
    "---"
   ]
  },
  {
   "attachments": {
    "image.png": {
     "image/png": "[encoded data removed]"
    }
   },
   "cell_type": "markdown",
   "metadata": {},
   "source": [
    "---\n",
    "```python\n",
    "def num_seconds(paths):\n",
    "    nSeconds = []\n",
    "    for path in paths:\n",
    "        wav, sr = torchaudio.load(path)\n",
    "        nsec = wav.shape[-1]/sr\n",
    "        nSeconds.append(nsec)\n",
    "    return nSeconds\n",
    "secs = torch.tensor(num_seconds([item for sublist in paths for item in sublist]))\n",
    "print(\"Stats: \", secs.min(), secs.max(), secs.mean(), secs.std())\n",
    "\n",
    "def freq(arr):\n",
    "  frequency = {}\n",
    "  for item in arr:\n",
    "    if item in frequency:\n",
    "        frequency[item] += 1\n",
    "    else:\n",
    "        frequency[item] = 1\n",
    "  return frequency\n",
    "sec_freqs = freq(secs.tolist())\n",
    "s = dict(sorted(sec_freqs.items(), key=lambda x: x[0]))\n",
    "frq = sorted(sec_freqs.values())\n",
    "print(min(frq), max(frq))\n",
    "\n",
    "fig, ax = plt.subplots()\n",
    "plt.scatter(list(s), list(s.values()))\n",
    "plt.xlabel(\"Number of seconds\")\n",
    "plt.ylabel(\"Frequencies\")\n",
    "plt.yticks(list(range(0, 50_000, 5_000)) + [1])\n",
    "plt.grid(True)\n",
    "ax.axhline(y=1, color='r', linestyle='dotted')\n",
    "ax.text(9, 20, 'freq=1', verticalalignment='center', color='r')\n",
    "plt.show()\n",
    "\n",
    "Outputs:\n",
    "Stats:  tensor(7.9034) tensor(10.) tensor(9.8095) tensor(0.5069)\n",
    "1 44210\n",
    "```\n",
    "\n",
    "![image.png](attachment:image.png)\n",
    "\n",
    "---"
   ]
  },
  {
   "cell_type": "markdown",
   "metadata": {},
   "source": [
    "## Torch Dataset"
   ]
  },
  {
   "cell_type": "code",
   "execution_count": 10,
   "metadata": {},
   "outputs": [
    {
     "data": {
      "text/plain": [
       "'\\nwith torch.no_grad():\\n    encoded_frames = model.encode(wav)\\ncodes = torch.cat([encoded[0] for encoded in encoded_frames], dim=-1)  # [B, n_q, T]\\n    \\noutputs = model(input_ids=tokens_attmsk[\"input_ids\"], attention_mask=tokens_attmsk[\"attention_mask\"])\\n        \\na = t5_tokenizer(\\n    [\"Hey hi\", \"hi\"], return_tensors=\"pt\",\\n    padding=True\\n)\\na[\"input_ids\"], a[\"attention_mask\"], a\\n'"
      ]
     },
     "execution_count": 10,
     "metadata": {},
     "output_type": "execute_result"
    }
   ],
   "source": [
    "class DataOp(torch.utils.data.IterableDataset):\n",
    "    def __init__(self, split:str, batch_size:int):\n",
    "        self.split = split\n",
    "        self.batch_size = batch_size\n",
    "        self.wav_paths, self.captions = ioPathTextDs(save_path=AUDIO_TXT_PATH, batch_size=batch_size) # (len//batch_size, batch_size), (len//batch_size, batch_size)\n",
    "\n",
    "    @staticmethod\n",
    "    def preprocess_batched_wavpath(bs_wavpaths):\n",
    "        \"\"\"pads to maxlen in batch, if less than WAVLEN pad again\"\"\"\n",
    "        bs_wavs = nn.utils.rnn.pad_sequence(\n",
    "            list(ProcessPoolExecutor.map(preprocess_wavpath, bs_wavpaths)), \n",
    "            batch_first=True\n",
    "        )\n",
    "        if bs_wavs.shape[-1] != WAVLEN: # 240_000\n",
    "            bs_wavs = F.pad(bs_wavs, (0,WAVLEN - bs_wavs.shape[-1]))\n",
    "        return bs_wavs\n",
    "\n",
    "    def __iter__(self):\n",
    "        while True:\n",
    "            # shuffle the chunk without disturbing order of wav paths and texts\n",
    "            # shape(batch_size)[path1, path2, ..., path32], [txt1, txt2, ..., txt32]\n",
    "            for bs_wavpaths, bs_texts in shuffle_preserve_order(self.wav_paths, self.captions): \n",
    "                bs_wavs = DataOp.preprocess_batched_wavpath(bs_wavpaths)\n",
    "                \n",
    "                tokens_attmsk = t5_tokenizer( # {'input_ids': , ..., 'attention_mask': ...}\n",
    "                    bs_texts, return_tensors=\"pt\", padding=True\n",
    "                )\n",
    "                yield bs_wavs, tokens_attmsk\n",
    "\n",
    "\n",
    "# normalize then pad to maximum length\n",
    "\"\"\"print(\"Converting paths to wav tensors...\")\n",
    "with ProcessPoolExecutor() as executor:\n",
    "    wavs = list(executor.map(preprocess_wavpath, paths))\n",
    "print(\"Padding the wav tensors...\")\n",
    "wavs = nn.utils.rnn.pad_sequence(wavs, batch_first=True)\n",
    "print(\"Wav dataset shape\", wavs.shape)\n",
    "wavs = wavs.tolist()\"\"\"\n",
    "# batchify dataset and skip last partial batch\n",
    "\n",
    "# TODO @ train loop\n",
    "\"\"\"\n",
    "with torch.no_grad():\n",
    "    encoded_frames = model.encode(wav)\n",
    "codes = torch.cat([encoded[0] for encoded in encoded_frames], dim=-1)  # [B, n_q, T]\n",
    "    \n",
    "outputs = model(input_ids=tokens_attmsk[\"input_ids\"], attention_mask=tokens_attmsk[\"attention_mask\"])\n",
    "        \n",
    "a = t5_tokenizer(\n",
    "    [\"Hey hi\", \"hi\"], return_tensors=\"pt\",\n",
    "    padding=True\n",
    ")\n",
    "a[\"input_ids\"], a[\"attention_mask\"], a\n",
    "\"\"\"\n"
   ]
  },
  {
   "cell_type": "markdown",
   "metadata": {},
   "source": [
    "# Encodec Model\n",
    "\n",
    "```python\n",
    "Input to encodec (x): shape(C_a*T)\n",
    "    T: d*f_s\n",
    "    d: audio duration\n",
    "    f_s: sampling frequency\n",
    "Encoder Output:\n",
    "    \n",
    "Quantized repr: z ∈ {1,...,Nq}^(K*T)\n",
    "    T: (d*f_r)\n",
    "    d: audio duration\n",
    "    f_r: frame_rate, f_r << f_s\n",
    "    K: number of codebooks used in RVQ\n",
    "    Nq: codebook size\n",
    "```\n",
    "\n",
    "* Recall, the audio representation is composed of multi-stream sequences created by RVQ. In which, the first codebook encodes the coarse information of the signal while later codebooks encode the quantization error to refine the generation quality\n",
    "* To handle that, Borsos et al. (2023b) proposed to predict tokens from codebook k given its preceding codebooks. During training, a codebook level k, is being uniformly sampled from {1, . . . ,K}. Then, we mask and predict the tokens of the k-th codebook given previous levels via teacher forcing\n",
    "* At inference, we sequentially generate the token streams, where each codebook is being generated conditioned on previously generated codebooks"
   ]
  },
  {
   "cell_type": "code",
   "execution_count": 11,
   "metadata": {},
   "outputs": [],
   "source": [
    "def getQuantizedCodings(bs_waves:Tensor): # (B, C=1, T=WAVLEN)\n",
    "    with torch.no_grad():\n",
    "        encoded_frames = encodec_model.encode(bs_waves) \n",
    "    codes = encoded_frames[0][0] # (B, n_q=4, T=750)\n",
    "    return codes\n",
    "\n",
    "def getAudioFromCodings(codes:Tensor):\n",
    "    encoded_frames = [(codes, None)]\n",
    "    with torch.no_grad():\n",
    "        wavs = encodec_model.decode(encoded_frames)\n",
    "    return wavs"
   ]
  },
  {
   "attachments": {
    "image-2.png": {
     "image/png": "[encoded data removed]"
    },
    "image.png": {
     "image/png": "[encoded data removed]"
    }
   },
   "cell_type": "markdown",
   "metadata": {},
   "source": [
    "```python\n",
    "wav = preprocess_wavpath(wavpath=\"data/MusicBench/datashare/data_aug2/_0-2meOf9qY_3.wav\").unsqueeze(0)\n",
    "playAudio(tensor=wav.squeeze(), sample_rate=SRATE, show=True) # wav\n",
    "```\n",
    "![image.png](attachment:image.png)\n",
    "\n",
    "```python\n",
    "qcodings = getQuantizedCodings(wav)\n",
    "wav1 = getAudioFromCodings(qcodings)\n",
    "playAudio(tensor=wav1.squeeze(), sample_rate=SRATE, show=True); print(wav1, wav1.shape) # decode(encode(wav))\n",
    "```\n",
    "![image-2.png](attachment:image-2.png)"
   ]
  },
  {
   "cell_type": "code",
   "execution_count": 12,
   "metadata": {},
   "outputs": [],
   "source": [
    "# wav = preprocess_wavpath(wavpath=\"data/MusicBench/datashare/data_aug2/_0-2meOf9qY_3.wav\").unsqueeze(0)\n",
    "# playAudio(tensor=wav.squeeze(), sample_rate=SRATE, show=True) # wav"
   ]
  },
  {
   "cell_type": "code",
   "execution_count": 13,
   "metadata": {},
   "outputs": [],
   "source": [
    "# qcodings = getQuantizedCodings(wav); print(\"Quantized Codings:\", qcodings.shape)\n",
    "# wav1 = getAudioFromCodings(qcodings)\n",
    "# playAudio(tensor=wav1.squeeze(), sample_rate=SRATE, show=True); print(wav1, wav1.shape)"
   ]
  },
  {
   "cell_type": "code",
   "execution_count": 14,
   "metadata": {},
   "outputs": [],
   "source": [
    "# for code in qcodings[0]:\n",
    "#     print(code.shape, code.max(), code.min())"
   ]
  },
  {
   "cell_type": "markdown",
   "metadata": {},
   "source": [
    "# MAGNeT Comp Ops"
   ]
  },
  {
   "attachments": {
    "Screenshot from 2024-04-10 17-44-16.png": {
     "image/png": "[encoded data removed]"
    }
   },
   "cell_type": "markdown",
   "metadata": {},
   "source": [
    "## Masking Strategy\n",
    "* Use spans of tokens as the atomic buildings blocks\n",
    "* Using a ***span-length of 3*** *(after using encodec model not on raw wav tensor)*, which corresponds to spans of 60ms yields the best performance\n",
    "* Masking rate `gamma(i)` from the scheduler and compute the average amount of spans to be masked\n",
    "* `gamma(i;s) = cos(pi*(i-1)/2s)`\n",
    "* Spans overlap so it's important to design `u (number of spans to mask)` carefully\n",
    "* Choose ![Screenshot from 2024-04-10 17-44-16.png](<attachment:Screenshot from 2024-04-10 17-44-16.png>)\n",
    "* `j` is index to be masked, `i` is current index\n",
    "---\n",
    "* \n",
    "    ```python\n",
    "    [i.tolist().count(True) for i in m_init.numpy()]\n",
    "    [414, 248, 151, 16, 18, 380, 202, 147, 75, 402, 319, 343, 207,136, 184, 278, \n",
    "     91, 43, 132, 54, 104, 13, 493, 81, 265, 63, 121, 361, 171, 66, 304, 237]\n",
    "\n",
    "    [i.tolist().count(True) for i in mask.numpy()]\n",
    "    [670, 518, 371, 48, 52, 666, 454, 361, 204, 668, 609, 620, 475, 327, 418, 565,\n",
    "    254, 122, 328, 142, 269, 39, 716, 214, 552, 164, 310, 643, 392, 183, 603, 491]\n",
    "    ```"
   ]
  },
  {
   "cell_type": "code",
   "execution_count": 15,
   "metadata": {},
   "outputs": [],
   "source": [
    "T = 750 # length after encodec model # seq len\n",
    "L = 3 # mask span length # mask_span len\n",
    "s = 20 # number of decoding steps # num_decoding_steps"
   ]
  },
  {
   "cell_type": "code",
   "execution_count": 16,
   "metadata": {},
   "outputs": [],
   "source": [
    "def getNumberOfSpansToMask(T:int, L:int):\n",
    "    \"\"\"\n",
    "    ### Docs for how to use output \n",
    "    ```\n",
    "    We need something sort of like this {0: 0, 0.01: 3, ..., 0.99: 588, 1.0: 748} (mask_rate:u) but\n",
    "    [0, 3, ..., 588, 748] <= num_spans_to_mask (output)\n",
    "    [0, 1, ..., 99 , 100] <= corresponding indexes of num_spans_to_mask (mask_rate*100)\n",
    "    so no need of a dictionary like above\n",
    "    ```\"\"\"\n",
    "    approx_maskrate_given_u = lambda u: 1 - math.comb(T-L, u)/math.comb(T, u) # LHS\n",
    "    approx_mask_rates = [approx_maskrate_given_u(u) for u in range(0, T)]\n",
    "    \n",
    "    # get mean number of spans to mask (u) given maskrate ([i/100 for i in range(100+1)])\n",
    "    num_spans_to_mask = []\n",
    "    for mask_percentage in range(100+1):\n",
    "        mask_rate = mask_percentage/100 # dummy mask rates\n",
    "        # Return the index where to insert mask_rate in approx_mask_rates (sorted) to keep it sorted\n",
    "        u = bisect.bisect_left(approx_mask_rates, mask_rate)\n",
    "        num_spans_to_mask.append(u)\n",
    "    return num_spans_to_mask # (100,)"
   ]
  },
  {
   "cell_type": "code",
   "execution_count": 17,
   "metadata": {},
   "outputs": [
    {
     "name": "stdout",
     "output_type": "stream",
     "text": [
      "[0.0, 0.01, 0.02, 0.03, 0.04, 0.05, 0.06, 0.07, 0.08, 0.09, 0.1, 0.11, 0.12, 0.13, 0.14, 0.15, 0.16, 0.17, 0.18, 0.19, 0.2, 0.21, 0.22, 0.23, 0.24, 0.25, 0.26, 0.27, 0.28, 0.29, 0.3, 0.31, 0.32, 0.33, 0.34, 0.35, 0.36, 0.37, 0.38, 0.39, 0.4, 0.41, 0.42, 0.43, 0.44, 0.45, 0.46, 0.47, 0.48, 0.49, 0.5, 0.51, 0.52, 0.53, 0.54, 0.55, 0.56, 0.57, 0.58, 0.59, 0.6, 0.61, 0.62, 0.63, 0.64, 0.65, 0.66, 0.67, 0.68, 0.69, 0.7, 0.71, 0.72, 0.73, 0.74, 0.75, 0.76, 0.77, 0.78, 0.79, 0.8, 0.81, 0.82, 0.83, 0.84, 0.85, 0.86, 0.87, 0.88, 0.89, 0.9, 0.91, 0.92, 0.93, 0.94, 0.95, 0.96, 0.97, 0.98, 0.99, 1.0]\n"
     ]
    }
   ],
   "source": [
    "print([mask_percentage/100 for mask_percentage in range(100+1)])"
   ]
  },
  {
   "cell_type": "code",
   "execution_count": 34,
   "metadata": {},
   "outputs": [],
   "source": [
    "def maskSpans(mask_rates:Tensor, T:int, l:int):\n",
    "    \"\"\"```\n",
    "    Args:\n",
    "        mask_rates: Tensor => mask_probabilities of shape (B,)\n",
    "        T: int => length of Sequence\n",
    "        l: int => span length\n",
    "    Returns:\n",
    "        mask: Tensor => mask of shape (B, T)\n",
    "    ```\"\"\"\n",
    "    B = len(mask_rates)\n",
    "\n",
    "    indexes = torch.round(mask_rates*100) # indexes to take from num_spans_to_mask # (B,)\n",
    "    # contains number of spans to mask\n",
    "    batched_num_spans = torch.tensor(\n",
    "        getNumberOfSpansToMask(T, L=3)).gather(dim=0, index=torch.tensor(indexes)).clip(min=1) \n",
    "    # (100,) =[indexes]=> (B,) # Using gather ensures support when len(indexes) > 100\n",
    "    \n",
    "    batch_randperm = torch.rand((B, T)).argsort(-1) # rand integers\n",
    "    mask = batch_randperm < batched_num_spans[..., None] # contains batched_num_spans number of Trues\n",
    "    shifted_mask = mask.detach().clone()\n",
    "    for _ in range(l-1):\n",
    "        shifted_mask = torch.concat((torch.full((B, 1), False), shifted_mask[:, :-1]), dim=-1)\n",
    "        mask = torch.logical_or(mask, shifted_mask)\n",
    "    return mask"
   ]
  },
  {
   "cell_type": "code",
   "execution_count": 33,
   "metadata": {},
   "outputs": [
    {
     "data": {
      "text/plain": [
       "tensor([414, 248, 151,  16,  18, 380, 202, 147,  75, 402, 319, 343, 207, 136,\n",
       "        184, 278,  91,  43, 132,  54, 104,  13, 493,  81, 265,  63, 121, 361,\n",
       "        171,  66, 304, 237])"
      ]
     },
     "execution_count": 33,
     "metadata": {},
     "output_type": "execute_result"
    }
   ],
   "source": [
    "torch.tensor(getNumberOfSpansToMask(T, L=3)).gather(dim=0, index=torch.tensor(indexes)).clip(min=1)"
   ]
  },
  {
   "cell_type": "code",
   "execution_count": null,
   "metadata": {},
   "outputs": [],
   "source": [
    "@dataclass\n",
    "class config:\n",
    "    seqlen:int\n",
    "    spanlen:int"
   ]
  },
  {
   "cell_type": "code",
   "execution_count": null,
   "metadata": {},
   "outputs": [],
   "source": []
  },
  {
   "cell_type": "code",
   "execution_count": null,
   "metadata": {},
   "outputs": [],
   "source": []
  },
  {
   "cell_type": "code",
   "execution_count": null,
   "metadata": {},
   "outputs": [],
   "source": []
  },
  {
   "cell_type": "code",
   "execution_count": null,
   "metadata": {},
   "outputs": [],
   "source": []
  },
  {
   "cell_type": "code",
   "execution_count": null,
   "metadata": {},
   "outputs": [],
   "source": []
  },
  {
   "cell_type": "code",
   "execution_count": null,
   "metadata": {},
   "outputs": [],
   "source": []
  },
  {
   "cell_type": "code",
   "execution_count": 19,
   "metadata": {},
   "outputs": [
    {
     "data": {
      "text/plain": [
       "(tensor([414, 248, 151,  16,  18, 380, 202, 147,  75, 402, 319, 343, 207, 136,\n",
       "         184, 278,  91,  43, 132,  54, 104,  13, 493,  81, 265,  63, 121, 361,\n",
       "         171,  66, 304, 237]),\n",
       " torch.Size([32]))"
      ]
     },
     "execution_count": 19,
     "metadata": {},
     "output_type": "execute_result"
    }
   ],
   "source": [
    "detachindexes = r.sample(list(range(100)), 32)\n",
    "k1 = torch.tensor(getNumberOfSpansToMask(T, L=3))[indexes].clip(min=1) # []\n",
    "k1, k1.shape"
   ]
  },
  {
   "cell_type": "code",
   "execution_count": 20,
   "metadata": {},
   "outputs": [],
   "source": [
    "batch_randperm = torch.rand((32, T)).argsordetacht(-1) #; print(batch_randperm, k1[..., None], batch_randperm.shape, sep=\"\\n\")"
   ]
  },
  {
   "cell_type": "code",
   "execution_count": 29,
   "metadata": {},
   "outputs": [
    {
     "data": {
      "text/plain": [
       "(tensor([[ True,  True,  True,  ...,  True,  True,  True],\n",
       "         [ True,  True,  True,  ...,  True,  True, False],\n",
       "         [False, False,  True,  ..., False, False, False],\n",
       "         ...,\n",
       "         [False, False, False,  ..., False, False, False],\n",
       "         [False, False, False,  ...,  True, False, False],\n",
       "         [False, False,  True,  ..., False,  True,  True]]),\n",
       " tensor(False))"
      ]
     },
     "execution_count": 29,
     "metadata": {},
     "output_type": "execute_result"
    }
   ],
   "source": [
    "mask = batch_randperm < k1[..., None]; m_init = mask.clone()\n",
    "shifted_mask = mask.clone()\n",
    "for _ in range(3-1):\n",
    "    shifted_mask = torch.concat((torch.full((32, 1), False), shifted_mask[:, :-1]), dim=-1)\n",
    "    mask = torch.logical_or(mask, shifted_mask)\n",
    "mask, (mask==m_init).all()"
   ]
  },
  {
   "cell_type": "code",
   "execution_count": 28,
   "metadata": {},
   "outputs": [
    {
     "data": {
      "text/plain": [
       "(tensor([[ True,  True,  True,  ...,  True,  True,  True],\n",
       "         [ True,  True,  True,  ...,  True,  True, False],\n",
       "         [False, False,  True,  ..., False, False, False],\n",
       "         ...,\n",
       "         [False, False, False,  ..., False, False, False],\n",
       "         [False, False, False,  ...,  True, False, False],\n",
       "         [False, False,  True,  ..., False,  True,  True]]),\n",
       " tensor(False))"
      ]
     },
     "execution_count": 28,
     "metadata": {},
     "output_type": "execute_result"
    }
   ],
   "source": [
    "mask = batch_randperm < k1[..., None]; m_init = mask.clone()\n",
    "shifted_mask = mask.clone()\n",
    "for _ in range(3 - 1):\n",
    "    shifted_mask = torch.concat((torch.full((32, 1), False), shifted_mask[:, :-1]), dim=-1)\n",
    "    mask = torch.logical_or(mask, shifted_mask)\n",
    "mask, (mask==m_init).all()"
   ]
  },
  {
   "cell_type": "code",
   "execution_count": 28,
   "metadata": {},
   "outputs": [
    {
     "name": "stdout",
     "output_type": "stream",
     "text": [
      "tensor([[8, 2, 1, 5, 4, 0, 3, 7, 6, 9],\n",
      "        [8, 1, 7, 0, 4, 2, 9, 3, 5, 6]])\n"
     ]
    },
    {
     "data": {
      "text/plain": [
       "tensor([[False,  True,  True, False,  True,  True,  True, False, False, False],\n",
       "        [False,  True, False,  True,  True,  True, False,  True,  True,  True]])"
      ]
     },
     "execution_count": 28,
     "metadata": {},
     "output_type": "execute_result"
    }
   ],
   "source": [
    "brand_perm = torch.rand((2, 10)).argsort(-1); print(brand_perm)\n",
    "k = torch.tensor(\n",
    "    [[5],\n",
    "     [7]]\n",
    ")\n",
    "\n",
    "m = brand_perm < k\n",
    "m # contains k number of Trues"
   ]
  },
  {
   "cell_type": "code",
   "execution_count": 29,
   "metadata": {},
   "outputs": [
    {
     "name": "stdout",
     "output_type": "stream",
     "text": [
      "0 tensor([[False, False,  True,  True, False,  True,  True,  True, False, False],\n",
      "        [False, False,  True, False,  True,  True,  True, False,  True,  True]]) \n",
      " tensor([[False,  True,  True, False,  True,  True,  True, False, False, False],\n",
      "        [False,  True, False,  True,  True,  True, False,  True,  True,  True]])\n",
      "0 tensor([[False,  True,  True,  True,  True,  True,  True,  True, False, False],\n",
      "        [False,  True,  True,  True,  True,  True,  True,  True,  True,  True]])\n",
      "\n",
      "\n",
      "\n",
      "1 tensor([[False, False, False,  True,  True, False,  True,  True,  True, False],\n",
      "        [False, False, False,  True, False,  True,  True,  True, False,  True]]) \n",
      " tensor([[False,  True,  True,  True,  True,  True,  True,  True, False, False],\n",
      "        [False,  True,  True,  True,  True,  True,  True,  True,  True,  True]])\n",
      "1 tensor([[False,  True,  True,  True,  True,  True,  True,  True,  True, False],\n",
      "        [False,  True,  True,  True,  True,  True,  True,  True,  True,  True]])\n",
      "\n",
      "\n",
      "\n"
     ]
    }
   ],
   "source": [
    "sm = m.clone()\n",
    "for i in range(3-1):\n",
    "    sm = torch.concat((torch.full((2, 1), False), sm[:, :-1]), dim=-1)\n",
    "    print(i, sm, \"\\n\", m)\n",
    "    m = torch.logical_or(m, sm)\n",
    "    print(i, m)\n",
    "    print(\"\\n\\n\")"
   ]
  },
  {
   "cell_type": "code",
   "execution_count": 30,
   "metadata": {},
   "outputs": [
    {
     "data": {
      "text/plain": [
       "tensor([[False,  True,  True,  True,  True,  True,  True,  True,  True, False],\n",
       "        [False,  True,  True,  True,  True,  True,  True,  True,  True,  True]])"
      ]
     },
     "execution_count": 30,
     "metadata": {},
     "output_type": "execute_result"
    }
   ],
   "source": [
    "m"
   ]
  },
  {
   "cell_type": "code",
   "execution_count": null,
   "metadata": {},
   "outputs": [],
   "source": [
    "torch.tensor(getNumberOfSpansToMask(T, L=3))[[mask_percentage for mask_percentage in range(100+1)]].clip(min=1) # (B,)"
   ]
  },
  {
   "cell_type": "code",
   "execution_count": null,
   "metadata": {},
   "outputs": [],
   "source": []
  },
  {
   "cell_type": "code",
   "execution_count": null,
   "metadata": {},
   "outputs": [],
   "source": [
    "torch.rand((2, 750)).argsort(dim=-1)"
   ]
  },
  {
   "cell_type": "code",
   "execution_count": null,
   "metadata": {},
   "outputs": [],
   "source": [
    "print(getNumberOfSpansToMask(T, L))"
   ]
  },
  {
   "cell_type": "code",
   "execution_count": null,
   "metadata": {},
   "outputs": [],
   "source": [
    "torch.tensor(getNumberOfSpansToMask(T, L))*3"
   ]
  },
  {
   "cell_type": "code",
   "execution_count": null,
   "metadata": {},
   "outputs": [],
   "source": [
    "def getMask(l:int): # tensor: shape(B, nq, T) # shape(B, nq=4, T=750)\n",
    "    pass"
   ]
  },
  {
   "cell_type": "markdown",
   "metadata": {},
   "source": [
    "## Restricted Context"
   ]
  },
  {
   "cell_type": "code",
   "execution_count": null,
   "metadata": {},
   "outputs": [],
   "source": []
  },
  {
   "cell_type": "markdown",
   "metadata": {},
   "source": [
    "## Classifier-Free Guidance"
   ]
  },
  {
   "cell_type": "code",
   "execution_count": null,
   "metadata": {},
   "outputs": [],
   "source": []
  },
  {
   "cell_type": "markdown",
   "metadata": {},
   "source": [
    "## Model Ops"
   ]
  },
  {
   "cell_type": "code",
   "execution_count": null,
   "metadata": {},
   "outputs": [],
   "source": [
    "class PositionalEmbedding:\n",
    "    \"\"\"```\n",
    "    Sinusoidal Fixed Positional Embeddings\n",
    "    Args:\n",
    "        maxlen:int\n",
    "        dim:int\n",
    "    sinusoidal_embeddings: \n",
    "        pos_emb: (1, maxlen, dim)\n",
    "    ```\"\"\"\n",
    "    def __init__(self, maxlen:int, dim:int):\n",
    "        p, i = torch.meshgrid(torch.arange(float(maxlen)), torch.arange(dim/2)*2)\n",
    "        theta = (p/1e4**(i/dim)).T\n",
    "    \n",
    "        self.pos_emb = torch.stack([torch.sin(theta), torch.cos(theta)], axis=-1)\n",
    "        self.pos_emb = self.pos_emb.reshape((maxlen, dim))[None] # (1, maxlen, dim)\n",
    "    \n",
    "    def sinusoidal_embeddings(self):\n",
    "        return self.pos_emb # (1, maxlen, dim)"
   ]
  },
  {
   "cell_type": "markdown",
   "metadata": {},
   "source": [
    "## Dumb model for dumb baselines"
   ]
  },
  {
   "cell_type": "code",
   "execution_count": null,
   "metadata": {},
   "outputs": [],
   "source": [
    "class DModel(nn.Module):\n",
    "    def __init__(self, config):\n",
    "        super().__init__()\n",
    "        self.rnn = nn.LSTM(\n",
    "            input_size=config.d_model, # input dim\n",
    "            hidden_size=config.d_model, # output dim\n",
    "            num_layers=config.num_layers,\n",
    "            batch_first=True,\n",
    "            bidirectional=True\n",
    "        )\n",
    "\n",
    "    def forward(self, x): # (B, T, d_model)\n",
    "        return self.rnn(x) # (B, T, d_model)"
   ]
  },
  {
   "cell_type": "markdown",
   "metadata": {},
   "source": [
    "## MAGNeT-Transformer Model"
   ]
  },
  {
   "cell_type": "code",
   "execution_count": null,
   "metadata": {},
   "outputs": [],
   "source": []
  },
  {
   "cell_type": "markdown",
   "metadata": {},
   "source": [
    "## Magnet - Model Agnostic"
   ]
  },
  {
   "cell_type": "code",
   "execution_count": null,
   "metadata": {},
   "outputs": [],
   "source": [
    "class MAGNET(nn.Module):\n",
    "    def __init__(self, model, config):\n",
    "        self.model = model\n",
    "        self.embs = [nn.Embedding(\n",
    "            num_embeddings=config.cardinality, # C\n",
    "            embedding_dim=config.d_model\n",
    "        ) for _ in range(config.num_codebooks)]\n",
    "\n",
    "        self.nq = config.num_codebooks # nq\n",
    "\n",
    "    def forward(self, x): # (B, nq, C)\n",
    "        x = sum([self.embs[codebook](x[:, codebook]) for codebook in range(self.nq)]) # (B, S, )"
   ]
  },
  {
   "cell_type": "code",
   "execution_count": null,
   "metadata": {},
   "outputs": [],
   "source": []
  },
  {
   "cell_type": "markdown",
   "metadata": {},
   "source": [
    "# Model Agnostic Train Loop"
   ]
  },
  {
   "cell_type": "code",
   "execution_count": null,
   "metadata": {},
   "outputs": [],
   "source": [
    "class MagnetTrainer:\n",
    "    def __init__(self, config:config):\n",
    "        self.__num_spans_to_mask = torch.tensor(\n",
    "            self._get_number_of_spans_to_mask(config.seqlen, config.spanlen)\n",
    "        )\n",
    "\n",
    "    def _get_number_of_spans_to_mask(self, T:int, L:int):\n",
    "        \"\"\"\n",
    "        ### Docs for how to use output\n",
    "        ```\n",
    "        We need something sort of like this {0: 0, 0.01: 3, ..., 0.99: 588, 1.0: 748} (mask_rate:u) but\n",
    "        [0, 3, ..., 588, 748] <= num_spans_to_mask (output)\n",
    "        [0, 1, ..., 99 , 100] <= corresponding indexes of num_spans_to_mask (mask_rate*100)\n",
    "        so no need of a dictionary like above\n",
    "        ```\"\"\"\n",
    "        approx_maskrate_given_u = lambda u: 1 - math.comb(T-L, u)/math.comb(T, u) # LHS\n",
    "        approx_mask_rates = [approx_maskrate_given_u(u) for u in range(0, T)]\n",
    "        \n",
    "        # get mean number of spans to mask (u) given maskrate ([i/100 for i in range(100+1)])\n",
    "        num_spans_to_mask = []\n",
    "        for mask_percentage in range(100+1):\n",
    "            mask_rate = mask_percentage/100 # dummy mask rates\n",
    "            # Return the index where to insert mask_rate in approx_mask_rates (sorted) to keep it sorted\n",
    "            u = bisect.bisect_left(approx_mask_rates, mask_rate)\n",
    "            num_spans_to_mask.append(u)\n",
    "        return num_spans_to_mask # (100,)\n",
    "\n",
    "    def _get_spanned_mask(self, mask_rates:Tensor, T:int, l:int):\n",
    "        \"\"\"```\n",
    "        Args:\n",
    "            mask_rates: Tensor => mask_probabilities of shape (B,)\n",
    "            T: int => length of sequence\n",
    "            l: int => span length\n",
    "        Returns:\n",
    "            mask: Tensor => mask of shape (B, T)\n",
    "        ```\"\"\"\n",
    "        B = len(mask_rates)\n",
    "\n",
    "        indexes = torch.round(mask_rates*100) # indexes to take from num_spans_to_mask # (B,)\n",
    "        # contains number of spans to mask\n",
    "        batched_num_spans = torch.tensor(\n",
    "            self.__num_spans_to_mask).gather(dim=0, index=torch.tensor(indexes)).clip(min=1) \n",
    "        \n",
    "        batch_randperm = torch.rand((B, T)).argsort(-1) # rand integers from 0 to T\n",
    "        mask = batch_randperm < batched_num_spans[..., None] # contains batched_num_spans number of Trues\n",
    "        shifted_mask = mask.clone()\n",
    "        for _ in range(l-1):\n",
    "            shifted_mask = torch.concat((torch.full((B, 1), False), shifted_mask[:, :-1]), dim=-1)\n",
    "            mask = torch.logical_or(mask, shifted_mask)\n",
    "        return mask\n",
    "    \n",
    "    def _magnet_restricted_att_mask(self):\n",
    "        pass\n",
    "\n",
    "    def _cfg(self):\n",
    "        pass\n",
    "\n",
    "    def _magnet_cross_entropy(self):\n",
    "        pass\n",
    "\n",
    "    def train_step(self):\n",
    "        pass"
   ]
  }
 ],
 "metadata": {
  "kernelspec": {
   "display_name": "Python 3",
   "language": "python",
   "name": "python3"
  },
  "language_info": {
   "codemirror_mode": {
    "name": "ipython",
    "version": 3
   },
   "file_extension": ".py",
   "mimetype": "text/x-python",
   "name": "python",
   "nbconvert_exporter": "python",
   "pygments_lexer": "ipython3",
   "version": "3.11.8"
  }
 },
 "nbformat": 4,
 "nbformat_minor": 2
}
