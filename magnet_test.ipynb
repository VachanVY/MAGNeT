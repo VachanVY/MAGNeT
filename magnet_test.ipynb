{
 "cells": [
  {
   "cell_type": "code",
   "execution_count": 1,
   "metadata": {},
   "outputs": [],
   "source": [
    "import matplotlib.pyplot as plt\n",
    "from icecream import ic\n",
    "import time\n",
    "\n",
    "import torch\n",
    "from torch import nn, Tensor\n",
    "from torch.nn import functional as F\n",
    "\n",
    "from src.model import get_magnet_model\n",
    "from src.preprocess_ops import PreProOps\n",
    "from src.music_bench import (\n",
    "    MAX_SEC,\n",
    "    shuffle_preserve_order,\n",
    "    QCODING_LEN,\n",
    ")\n",
    "from src.train import PreProDataset, MagnetTrainer\n",
    "from src.utils.lr_scheduler import CosineDecayWithWarmup\n",
    "from src.music_bench import AUDIO_TXT_PATH, ioPathTextDs\n",
    "\n",
    "torch.backends.cudnn.deterministic = True\n",
    "torch.backends.cuda.matmul.allow_tf32 = True\n",
    "torch.backends.cudnn.allow_tf32 = True\n",
    "\n",
    "from src.train import tonfig\n",
    "DEVICE = torch.device(\"cuda\")"
   ]
  },
  {
   "cell_type": "markdown",
   "metadata": {},
   "source": [
    "# Test Model"
   ]
  },
  {
   "cell_type": "markdown",
   "metadata": {},
   "source": [
    "## Forward pass"
   ]
  },
  {
   "cell_type": "code",
   "execution_count": 2,
   "metadata": {},
   "outputs": [],
   "source": [
    "ctx = (\n",
    "        torch.autocast(\n",
    "                device_type=\"cuda\" if \"cuda\" in DEVICE.type else \"cpu\",\n",
    "                dtype={\"bfloat16\": torch.bfloat16,\n",
    "                       \"float16\" : torch.float16}[tonfig.dtype]\n",
    "        )\n",
    "    )"
   ]
  },
  {
   "cell_type": "code",
   "execution_count": 3,
   "metadata": {},
   "outputs": [
    {
     "name": "stderr",
     "output_type": "stream",
     "text": [
      "/home/vvy/Desktop/repos/MAGNeT/.venv/lib/python3.11/site-packages/torch/nn/utils/weight_norm.py:28: UserWarning: torch.nn.utils.weight_norm is deprecated in favor of torch.nn.utils.parametrizations.weight_norm.\n",
      "  warnings.warn(\"torch.nn.utils.weight_norm is deprecated in favor of torch.nn.utils.parametrizations.weight_norm.\")\n"
     ]
    }
   ],
   "source": [
    "preprocess_ops = PreProOps(\n",
    "    max_sec=QCODING_LEN,\n",
    "    print_info=True,\n",
    "    device=DEVICE.type,\n",
    "    compile=False,\n",
    "    autocast=ctx\n",
    ")"
   ]
  },
  {
   "cell_type": "code",
   "execution_count": 10,
   "metadata": {},
   "outputs": [
    {
     "name": "stdout",
     "output_type": "stream",
     "text": [
      "Dataset is preprocessed.\n"
     ]
    },
    {
     "data": {
      "text/plain": [
       "({'qcode': tensor([[[ 696,  679, 1008,  ..., 1024, 1024, 1024],\n",
       "           [ 923,  419,  866,  ..., 1024, 1024, 1024],\n",
       "           [ 873,  949,  181,  ..., 1024, 1024, 1024],\n",
       "           [ 330,  413,  639,  ..., 1024, 1024, 1024]],\n",
       "  \n",
       "          [[ 850,  642,  982,  ...,  239,  986,  226],\n",
       "           [ 214,  993,  552,  ...,  827,  191,  858],\n",
       "           [ 159,  159,   10,  ...,  405,  204,  318],\n",
       "           [ 725,  567,  818,  ...,  257,  400,  819]]], device='cuda:0'),\n",
       "  'mask': tensor([[[ True,  True,  True,  ..., False, False, False],\n",
       "           [ True,  True,  True,  ..., False, False, False],\n",
       "           [ True,  True,  True,  ..., False, False, False],\n",
       "           [ True,  True,  True,  ..., False, False, False]],\n",
       "  \n",
       "          [[ True,  True,  True,  ...,  True,  True,  True],\n",
       "           [ True,  True,  True,  ...,  True,  True,  True],\n",
       "           [ True,  True,  True,  ...,  True,  True,  True],\n",
       "           [ True,  True,  True,  ...,  True,  True,  True]]], device='cuda:0')},\n",
       " ['This exhilarating song, composed in G minor and played in Allegro with a 4/4 time signature, features an orchestra with a dominant presence of violin and brass instruments creating several layers of sound. It lends itself towards inducing action and can aptly accompany a thrilling, intense and adrenaline-fueled scene in a movie.',\n",
       "  'This instrumental song features a medium-slow tempo with an insistent keyboard/amplified organ harmony, gentle electric guitar lead, and ambient nature sounds in the background. It has a soft, mellow, and soothing quality that evokes feelings of pensiveness, meditation, reflection, nostalgia, and poignancy. In the background, the chirping of birds, sound of waves, and gentle breeze add to the song/s serene atmosphere. The beat counts to three, and the song starts with a crescendo. All in all, this composition is a beautiful blend of instruments, sounds, and emotions that will transport listeners to a calm and peaceful state.'])"
      ]
     },
     "execution_count": 10,
     "metadata": {},
     "output_type": "execute_result"
    }
   ],
   "source": [
    "dataset = ioPathTextDs(\n",
    "    save_path=AUDIO_TXT_PATH,\n",
    "    batch_size=2,\n",
    "    split_float=0.9,\n",
    "    return_ds=True\n",
    ")\n",
    "x_train, y_train = dataset[\"train\"]\n",
    "train_iterator = iter(PreProDataset(\n",
    "    wav_paths=x_train[100:101],\n",
    "    texts=y_train[100:101],\n",
    "    audio_pad_id=1024,\n",
    "    device=DEVICE.type,\n",
    "    qcoding_len=QCODING_LEN,\n",
    "    preprocess_ops=preprocess_ops,\n",
    ").iter_batches())\n",
    "next(train_iterator)"
   ]
  },
  {
   "cell_type": "code",
   "execution_count": 11,
   "metadata": {},
   "outputs": [],
   "source": [
    "magnet_model = get_magnet_model().to(DEVICE)"
   ]
  },
  {
   "cell_type": "markdown",
   "metadata": {},
   "source": [
    "# Test Training:"
   ]
  },
  {
   "cell_type": "markdown",
   "metadata": {},
   "source": [
    "# Try Overfitting lil batch"
   ]
  },
  {
   "cell_type": "code",
   "execution_count": 12,
   "metadata": {},
   "outputs": [
    {
     "name": "stdout",
     "output_type": "stream",
     "text": [
      "Dataset is preprocessed.\n"
     ]
    },
    {
     "data": {
      "text/plain": [
       "({'qcode': tensor([[[ 696,  679, 1008,  ..., 1024, 1024, 1024],\n",
       "           [ 923,  419,  866,  ..., 1024, 1024, 1024],\n",
       "           [ 873,  949,  181,  ..., 1024, 1024, 1024],\n",
       "           [ 330,  413,  639,  ..., 1024, 1024, 1024]],\n",
       "  \n",
       "          [[ 850,  642,  982,  ...,  239,  986,  226],\n",
       "           [ 214,  993,  552,  ...,  827,  191,  858],\n",
       "           [ 159,  159,   10,  ...,  405,  204,  318],\n",
       "           [ 725,  567,  818,  ...,  257,  400,  819]]], device='cuda:0'),\n",
       "  'mask': tensor([[[ True,  True,  True,  ..., False, False, False],\n",
       "           [ True,  True,  True,  ..., False, False, False],\n",
       "           [ True,  True,  True,  ..., False, False, False],\n",
       "           [ True,  True,  True,  ..., False, False, False]],\n",
       "  \n",
       "          [[ True,  True,  True,  ...,  True,  True,  True],\n",
       "           [ True,  True,  True,  ...,  True,  True,  True],\n",
       "           [ True,  True,  True,  ...,  True,  True,  True],\n",
       "           [ True,  True,  True,  ...,  True,  True,  True]]], device='cuda:0')},\n",
       " ['This exhilarating song, composed in G minor and played in Allegro with a 4/4 time signature, features an orchestra with a dominant presence of violin and brass instruments creating several layers of sound. It lends itself towards inducing action and can aptly accompany a thrilling, intense and adrenaline-fueled scene in a movie.',\n",
       "  'This instrumental song features a medium-slow tempo with an insistent keyboard/amplified organ harmony, gentle electric guitar lead, and ambient nature sounds in the background. It has a soft, mellow, and soothing quality that evokes feelings of pensiveness, meditation, reflection, nostalgia, and poignancy. In the background, the chirping of birds, sound of waves, and gentle breeze add to the song/s serene atmosphere. The beat counts to three, and the song starts with a crescendo. All in all, this composition is a beautiful blend of instruments, sounds, and emotions that will transport listeners to a calm and peaceful state.'])"
      ]
     },
     "execution_count": 12,
     "metadata": {},
     "output_type": "execute_result"
    }
   ],
   "source": [
    "dataset = ioPathTextDs(\n",
    "    save_path=AUDIO_TXT_PATH,\n",
    "    batch_size=2,\n",
    "    split_float=0.9,\n",
    "    return_ds=True\n",
    ")\n",
    "x_train, y_train = dataset[\"train\"]\n",
    "train_iterator = iter(PreProDataset(\n",
    "    wav_paths=x_train[100:101],\n",
    "    texts=y_train[100:101],\n",
    "    audio_pad_id=1024,\n",
    "    device=DEVICE.type,\n",
    "    qcoding_len=QCODING_LEN,\n",
    "    preprocess_ops=preprocess_ops,\n",
    ").iter_batches())\n",
    "next(train_iterator)"
   ]
  },
  {
   "cell_type": "code",
   "execution_count": 13,
   "metadata": {},
   "outputs": [
    {
     "name": "stdout",
     "output_type": "stream",
     "text": [
      "37.833728 Million Parameters\n"
     ]
    }
   ],
   "source": [
    "print(sum(p.numel() for p in magnet_model.parameters() if p.requires_grad)/1e6, \"Million Parameters\")"
   ]
  },
  {
   "cell_type": "code",
   "execution_count": 14,
   "metadata": {},
   "outputs": [],
   "source": [
    "magnet_trainer = MagnetTrainer(\n",
    "    magnet_model=magnet_model,\n",
    "    preprocess_ops=preprocess_ops,\n",
    "    config=tonfig\n",
    ")\n",
    "\n",
    "get_lr = CosineDecayWithWarmup(\n",
    "    warmup_steps=tonfig.warmup_steps,\n",
    "    max_learning_rate=tonfig.max_learning_rate,\n",
    "    decay_steps=tonfig.decay_steps,\n",
    "    min_learning_rate=tonfig.min_learning_rate\n",
    ")\n",
    "\n",
    "scaler = torch.cuda.amp.GradScaler(enabled=(tonfig.dtype==\"float16\"))\n",
    "\n",
    "optimizer = magnet_model.configure_optimizers(\n",
    "    weight_decay=tonfig.weight_decay,\n",
    "    learning_rate=5e-4,\n",
    "    betas=(tonfig.beta1, tonfig.beta2),\n",
    "    device_type=\"cuda\" if \"cuda\" in DEVICE.type else \"cpu\"\n",
    ")"
   ]
  },
  {
   "cell_type": "code",
   "execution_count": null,
   "metadata": {},
   "outputs": [],
   "source": [
    "losses, accuracies = [], []\n",
    "def test_train():\n",
    "    audio_input, cond_text = next(train_iterator)\n",
    "\n",
    "    print(\"Training about to start...\")\n",
    "    t0 = time.time()\n",
    "    for step in range(0, 2000):\n",
    "        # set learning rate for all params\n",
    "        lr = 5e-4\n",
    "        for param_group in optimizer.param_groups:\n",
    "            param_group[\"lr\"] = lr\n",
    "\n",
    "        # gradient accumulation step\n",
    "        for mini_step in range(tonfig.num_grad_accumalation_steps):\n",
    "            with ctx:\n",
    "                loss, accuracy = magnet_trainer.mini_train_step(\n",
    "                    audio_input=audio_input, padded_cond_str=cond_text\n",
    "                )\n",
    "                loss /= tonfig.num_grad_accumalation_steps\n",
    "                # async prefetch immediately\n",
    "                audio_input, cond_text = next(train_iterator)\n",
    "\n",
    "            # keeps on scaling and adding gradients when calling backward\n",
    "            scaler.scale(loss).backward()\n",
    "\n",
    "        if tonfig.clipnorm is not None:\n",
    "            # unscale the gradients\n",
    "            scaler.unscale_(optimizer)\n",
    "            # clips gradients in-place to grad norm\n",
    "            nn.utils.clip_grad_norm_(magnet_model.parameters(), max_norm=tonfig.clipnorm)\n",
    "\n",
    "        # calls unscale to the optimizer unless already called, checks for infs and nans as a part of unscale_\n",
    "        # calls optimizer.step on unscaled grads if no infs and nans else optimizer.step is skipped\n",
    "        scaler.step(optimizer)\n",
    "        # Update the scale factor\n",
    "        scaler.update()\n",
    "\n",
    "        # flush grads to save memory\n",
    "        optimizer.zero_grad(set_to_none=True)\n",
    "\n",
    "        # some logging\n",
    "        t1 = time.time()\n",
    "        dt = t1-t0\n",
    "        t0 = t1\n",
    "        if step % tonfig.log_interval == 0:\n",
    "            # multiply as loss was scaled for gradient accumulation\n",
    "            lossf = loss.item() * tonfig.num_grad_accumalation_steps\n",
    "            print(\n",
    "                f\"| Step: {step} || Loss: {lossf:.4f} || Masked Accuracy: {accuracy[1]:.4f} | Accuracy: {accuracy[0]:.4f} |\"\n",
    "                f\"| LR: {lr:e} || dt: {dt*1000:.2f}ms |\"\n",
    "            )\n",
    "            losses.append(lossf); accuracies.append(accuracy)\n",
    "    return losses, accuracies\n",
    "\n",
    "losses, accuracies = test_train() # Clear Output"
   ]
  },
  {
   "cell_type": "code",
   "execution_count": 16,
   "metadata": {},
   "outputs": [
    {
     "data": {
      "image/png": "[encoded data removed]",
      "text/plain": [
       "<Figure size 640x480 with 1 Axes>"
      ]
     },
     "metadata": {},
     "output_type": "display_data"
    }
   ],
   "source": [
    "plt.plot(losses, label=\"Loss\")\n",
    "plt.plot(accuracies, label=\"Accuracy\")\n",
    "plt.grid(True)\n",
    "plt.ylabel(\"Loss/Accuracy\")\n",
    "plt.xlabel(\"Steps\")\n",
    "plt.legend()\n",
    "plt.show()"
   ]
  },
  {
   "cell_type": "code",
   "execution_count": 17,
   "metadata": {},
   "outputs": [
    {
     "data": {
      "text/plain": [
       "(2.4454382582916878e-05, (0.8233333230018616, 1.0), 1135, 1783)"
      ]
     },
     "execution_count": 17,
     "metadata": {},
     "output_type": "execute_result"
    }
   ],
   "source": [
    "min(losses), max(accuracies), losses.index(min(losses)), accuracies.index(max(accuracies)) "
   ]
  },
  {
   "cell_type": "markdown",
   "metadata": {},
   "source": [
    "# Test Generate"
   ]
  },
  {
   "cell_type": "code",
   "execution_count": 18,
   "metadata": {},
   "outputs": [
    {
     "data": {
      "text/plain": [
       "({'qcode': tensor([[[ 696,  679, 1008,  ..., 1024, 1024, 1024],\n",
       "           [ 923,  419,  866,  ..., 1024, 1024, 1024],\n",
       "           [ 873,  949,  181,  ..., 1024, 1024, 1024],\n",
       "           [ 330,  413,  639,  ..., 1024, 1024, 1024]],\n",
       "  \n",
       "          [[ 850,  642,  982,  ...,  239,  986,  226],\n",
       "           [ 214,  993,  552,  ...,  827,  191,  858],\n",
       "           [ 159,  159,   10,  ...,  405,  204,  318],\n",
       "           [ 725,  567,  818,  ...,  257,  400,  819]]], device='cuda:0'),\n",
       "  'mask': tensor([[[ True,  True,  True,  ..., False, False, False],\n",
       "           [ True,  True,  True,  ..., False, False, False],\n",
       "           [ True,  True,  True,  ..., False, False, False],\n",
       "           [ True,  True,  True,  ..., False, False, False]],\n",
       "  \n",
       "          [[ True,  True,  True,  ...,  True,  True,  True],\n",
       "           [ True,  True,  True,  ...,  True,  True,  True],\n",
       "           [ True,  True,  True,  ...,  True,  True,  True],\n",
       "           [ True,  True,  True,  ...,  True,  True,  True]]], device='cuda:0')},\n",
       " ['This exhilarating song, composed in G minor and played in Allegro with a 4/4 time signature, features an orchestra with a dominant presence of violin and brass instruments creating several layers of sound. It lends itself towards inducing action and can aptly accompany a thrilling, intense and adrenaline-fueled scene in a movie.',\n",
       "  'This instrumental song features a medium-slow tempo with an insistent keyboard/amplified organ harmony, gentle electric guitar lead, and ambient nature sounds in the background. It has a soft, mellow, and soothing quality that evokes feelings of pensiveness, meditation, reflection, nostalgia, and poignancy. In the background, the chirping of birds, sound of waves, and gentle breeze add to the song/s serene atmosphere. The beat counts to three, and the song starts with a crescendo. All in all, this composition is a beautiful blend of instruments, sounds, and emotions that will transport listeners to a calm and peaceful state.'])"
      ]
     },
     "execution_count": 18,
     "metadata": {},
     "output_type": "execute_result"
    }
   ],
   "source": [
    "debug_input = next(train_iterator)\n",
    "debug_input"
   ]
  },
  {
   "cell_type": "code",
   "execution_count": 19,
   "metadata": {},
   "outputs": [
    {
     "data": {
      "text/plain": [
       "torch.Size([2, 4, 750])"
      ]
     },
     "execution_count": 19,
     "metadata": {},
     "output_type": "execute_result"
    }
   ],
   "source": [
    "magnet_model.eval()\n",
    "gen_tok = magnet_model.generate(\n",
    "    prompt=debug_input[1],\n",
    "    get_cond_tokens_func=preprocess_ops.tokenize,\n",
    "    get_cond_tensors_func=preprocess_ops.get_conditioned_tensor,\n",
    "    device=DEVICE,\n",
    "    top_p=0.9,\n",
    "    decoding_steps=[20, 10, 10, 10]\n",
    ")\n",
    "gen_tok.shape"
   ]
  },
  {
   "cell_type": "code",
   "execution_count": 20,
   "metadata": {},
   "outputs": [
    {
     "data": {
      "text/plain": [
       "torch.Size([2, 1, 240000])"
      ]
     },
     "execution_count": 20,
     "metadata": {},
     "output_type": "execute_result"
    }
   ],
   "source": [
    "from src.utils.audio_utils import playAudio\n",
    "gen_wav = preprocess_ops.getAudioFromCodings(gen_tok)\n",
    "gen_wav.shape"
   ]
  },
  {
   "cell_type": "code",
   "execution_count": 21,
   "metadata": {},
   "outputs": [
    {
     "name": "stderr",
     "output_type": "stream",
     "text": [
      "Playing WAVE '/tmp/tmpba2hfy2a.wav' : Float 32 bit Little Endian, Rate 16000 Hz, Mono\n"
     ]
    }
   ],
   "source": [
    "playAudio(tensor=gen_wav[0].squeeze())"
   ]
  },
  {
   "cell_type": "code",
   "execution_count": 23,
   "metadata": {},
   "outputs": [
    {
     "name": "stderr",
     "output_type": "stream",
     "text": [
      "Playing WAVE '/tmp/tmpjwue23vm.wav' : Float 32 bit Little Endian, Rate 16000 Hz, Mono\n"
     ]
    }
   ],
   "source": [
    "playAudio(tensor=gen_wav[1].squeeze())"
   ]
  },
  {
   "cell_type": "code",
   "execution_count": null,
   "metadata": {},
   "outputs": [],
   "source": []
  }
 ],
 "metadata": {
  "kernelspec": {
   "display_name": ".venv",
   "language": "python",
   "name": "python3"
  },
  "language_info": {
   "codemirror_mode": {
    "name": "ipython",
    "version": 3
   },
   "file_extension": ".py",
   "mimetype": "text/x-python",
   "name": "python",
   "nbconvert_exporter": "python",
   "pygments_lexer": "ipython3",
   "version": "3.11.9"
  }
 },
 "nbformat": 4,
 "nbformat_minor": 2
}
